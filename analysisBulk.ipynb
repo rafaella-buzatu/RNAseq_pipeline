{
 "cells": [
  {
   "cell_type": "markdown",
   "metadata": {},
   "source": [
    "### bulk RNAseq analysis"
   ]
  },
  {
   "cell_type": "code",
   "execution_count": 1,
   "metadata": {},
   "outputs": [],
   "source": [
    "#Imports\n",
    "\n",
    "import os\n",
    "import sys\n",
    "import scanpy as sc\n",
    "import numpy as np\n",
    "import matplotlib.pyplot as plt\n",
    "import pandas as pd\n",
    "sc.settings.set_figure_params(dpi=100, facecolor='white')"
   ]
  },
  {
   "cell_type": "code",
   "execution_count": 9,
   "metadata": {},
   "outputs": [
    {
     "data": {
      "text/html": [
       "<div>\n",
       "<style scoped>\n",
       "    .dataframe tbody tr th:only-of-type {\n",
       "        vertical-align: middle;\n",
       "    }\n",
       "\n",
       "    .dataframe tbody tr th {\n",
       "        vertical-align: top;\n",
       "    }\n",
       "\n",
       "    .dataframe thead th {\n",
       "        text-align: right;\n",
       "    }\n",
       "</style>\n",
       "<table border=\"1\" class=\"dataframe\">\n",
       "  <thead>\n",
       "    <tr style=\"text-align: right;\">\n",
       "      <th>gene</th>\n",
       "      <th>WASH7P</th>\n",
       "      <th>MIR6859-1</th>\n",
       "      <th>LOC124900384</th>\n",
       "      <th>LOC729737</th>\n",
       "      <th>DDX11L17</th>\n",
       "      <th>LOC100996442</th>\n",
       "      <th>LOC100132287</th>\n",
       "      <th>MIR12136</th>\n",
       "      <th>OR4F16</th>\n",
       "      <th>LOC100288069</th>\n",
       "      <th>...</th>\n",
       "      <th>ATP6</th>\n",
       "      <th>COX3</th>\n",
       "      <th>ND3</th>\n",
       "      <th>ND4L</th>\n",
       "      <th>ND4</th>\n",
       "      <th>ND5</th>\n",
       "      <th>ND6</th>\n",
       "      <th>CYTB</th>\n",
       "      <th>TRNT</th>\n",
       "      <th>TRNP</th>\n",
       "    </tr>\n",
       "  </thead>\n",
       "  <tbody>\n",
       "    <tr>\n",
       "      <th>SRR14808580</th>\n",
       "      <td>42</td>\n",
       "      <td>1</td>\n",
       "      <td>1</td>\n",
       "      <td>95</td>\n",
       "      <td>6</td>\n",
       "      <td>39</td>\n",
       "      <td>3</td>\n",
       "      <td>11</td>\n",
       "      <td>1</td>\n",
       "      <td>16</td>\n",
       "      <td>...</td>\n",
       "      <td>60010</td>\n",
       "      <td>151273</td>\n",
       "      <td>12751</td>\n",
       "      <td>5598</td>\n",
       "      <td>59580</td>\n",
       "      <td>28957</td>\n",
       "      <td>9830</td>\n",
       "      <td>56279</td>\n",
       "      <td>1</td>\n",
       "      <td>1245</td>\n",
       "    </tr>\n",
       "  </tbody>\n",
       "</table>\n",
       "<p>1 rows × 24214 columns</p>\n",
       "</div>"
      ],
      "text/plain": [
       "gene         WASH7P  MIR6859-1  LOC124900384  LOC729737  DDX11L17  \\\n",
       "SRR14808580      42          1             1         95         6   \n",
       "\n",
       "gene         LOC100996442  LOC100132287  MIR12136  OR4F16  LOC100288069  ...  \\\n",
       "SRR14808580            39             3        11       1            16  ...   \n",
       "\n",
       "gene          ATP6    COX3    ND3  ND4L    ND4    ND5   ND6   CYTB  TRNT  TRNP  \n",
       "SRR14808580  60010  151273  12751  5598  59580  28957  9830  56279     1  1245  \n",
       "\n",
       "[1 rows x 24214 columns]"
      ]
     },
     "execution_count": 9,
     "metadata": {},
     "output_type": "execute_result"
    }
   ],
   "source": [
    "#Read the count matrix\n",
    "pathToCountMatrix = 'data/bulk_RNAseq/countMatrix.csv'\n",
    "countMatrix = pd.read_csv(pathToCountMatrix, index_col = 0)\n",
    "#Remove genes where counts are 0 for all samples\n",
    "countMatrix = countMatrix[countMatrix.sum(axis = 1) >0]\n",
    "#Transpose the matrix\n",
    "countMatrix = countMatrix.T\n",
    "countMatrix.head()"
   ]
  },
  {
   "cell_type": "code",
   "execution_count": 10,
   "metadata": {},
   "outputs": [
    {
     "data": {
      "text/plain": [
       "AnnData object with n_obs × n_vars = 1 × 24214"
      ]
     },
     "execution_count": 10,
     "metadata": {},
     "output_type": "execute_result"
    }
   ],
   "source": [
    "adata = sc.AnnData(countMatrix)\n",
    "adata"
   ]
  },
  {
   "cell_type": "code",
   "execution_count": 11,
   "metadata": {},
   "outputs": [
    {
     "data": {
      "text/html": [
       "<div>\n",
       "<style scoped>\n",
       "    .dataframe tbody tr th:only-of-type {\n",
       "        vertical-align: middle;\n",
       "    }\n",
       "\n",
       "    .dataframe tbody tr th {\n",
       "        vertical-align: top;\n",
       "    }\n",
       "\n",
       "    .dataframe thead th {\n",
       "        text-align: right;\n",
       "    }\n",
       "</style>\n",
       "<table border=\"1\" class=\"dataframe\">\n",
       "  <thead>\n",
       "    <tr style=\"text-align: right;\">\n",
       "      <th></th>\n",
       "    </tr>\n",
       "  </thead>\n",
       "  <tbody>\n",
       "    <tr>\n",
       "      <th>SRR14808580</th>\n",
       "    </tr>\n",
       "  </tbody>\n",
       "</table>\n",
       "</div>"
      ],
      "text/plain": [
       "Empty DataFrame\n",
       "Columns: []\n",
       "Index: [SRR14808580]"
      ]
     },
     "execution_count": 11,
     "metadata": {},
     "output_type": "execute_result"
    }
   ],
   "source": [
    "#Sample names\n",
    "adata.obs"
   ]
  },
  {
   "cell_type": "code",
   "execution_count": 12,
   "metadata": {},
   "outputs": [
    {
     "data": {
      "text/html": [
       "<div>\n",
       "<style scoped>\n",
       "    .dataframe tbody tr th:only-of-type {\n",
       "        vertical-align: middle;\n",
       "    }\n",
       "\n",
       "    .dataframe tbody tr th {\n",
       "        vertical-align: top;\n",
       "    }\n",
       "\n",
       "    .dataframe thead th {\n",
       "        text-align: right;\n",
       "    }\n",
       "</style>\n",
       "<table border=\"1\" class=\"dataframe\">\n",
       "  <thead>\n",
       "    <tr style=\"text-align: right;\">\n",
       "      <th></th>\n",
       "    </tr>\n",
       "    <tr>\n",
       "      <th>gene</th>\n",
       "    </tr>\n",
       "  </thead>\n",
       "  <tbody>\n",
       "    <tr>\n",
       "      <th>WASH7P</th>\n",
       "    </tr>\n",
       "    <tr>\n",
       "      <th>MIR6859-1</th>\n",
       "    </tr>\n",
       "    <tr>\n",
       "      <th>LOC124900384</th>\n",
       "    </tr>\n",
       "    <tr>\n",
       "      <th>LOC729737</th>\n",
       "    </tr>\n",
       "    <tr>\n",
       "      <th>DDX11L17</th>\n",
       "    </tr>\n",
       "    <tr>\n",
       "      <th>...</th>\n",
       "    </tr>\n",
       "    <tr>\n",
       "      <th>ND5</th>\n",
       "    </tr>\n",
       "    <tr>\n",
       "      <th>ND6</th>\n",
       "    </tr>\n",
       "    <tr>\n",
       "      <th>CYTB</th>\n",
       "    </tr>\n",
       "    <tr>\n",
       "      <th>TRNT</th>\n",
       "    </tr>\n",
       "    <tr>\n",
       "      <th>TRNP</th>\n",
       "    </tr>\n",
       "  </tbody>\n",
       "</table>\n",
       "<p>24214 rows × 0 columns</p>\n",
       "</div>"
      ],
      "text/plain": [
       "Empty DataFrame\n",
       "Columns: []\n",
       "Index: [WASH7P, MIR6859-1, LOC124900384, LOC729737, DDX11L17, LOC100996442, LOC100132287, MIR12136, OR4F16, LOC100288069, LINC01409, LINC00115, LINC01128, LOC107984850, LOC284600, LINC02593, LOC107985728, SAMD11, NOC2L, KLHL17, PLEKHN1, HES4, ISG15, AGRN, LOC100288175, LOC105378948, RNF223, C1orf159, LOC124903819, LINC01342, LOC124903818, TTLL10-AS1, TTLL10, TNFRSF18, TNFRSF4, SDF4, B3GALT6, C1QTNF12, UBE2J2, SCNN1D, ACAP3, SNORD167, PUSL1, INTS11, CPTP, TAS1R3, DVL1, MXRA8, AURKAIP1, CCNL2, MRPL20-AS1, MRPL20, MRPL20-DT, ANKRD65, ANKRD65-AS1, TMEM88B, LINC01770, LOC107985729, VWA1, ATAD3C, ATAD3B, ATAD3A, TMEM240, SSU72, FNDC10, LOC105378586, MIB2, LOC124903821, MMP23B, CDK11B, SLC35E2B, MMP23A, CDK11A, SLC35E2A, NADK, GNB1, GNB1-DT, LOC124903822, CALML6, TMEM52, CFAP74, LOC107984872, LOC105378589, GABRD, LOC105378590, PRKCZ, PRKCZ-DT, PRKCZ-AS1, FAAP20, LOC112268219, SKI, LOC124903824, MORN1, LOC100129534, RER1, PEX10, PRDM16, LOC107984909, LOC124903828, LOC105378604, ...]\n",
       "\n",
       "[24214 rows x 0 columns]"
      ]
     },
     "execution_count": 12,
     "metadata": {},
     "output_type": "execute_result"
    }
   ],
   "source": [
    "#Gene names\n",
    "adata.var"
   ]
  }
 ],
 "metadata": {
  "kernelspec": {
   "display_name": "biosoft",
   "language": "python",
   "name": "python3"
  },
  "language_info": {
   "codemirror_mode": {
    "name": "ipython",
    "version": 3
   },
   "file_extension": ".py",
   "mimetype": "text/x-python",
   "name": "python",
   "nbconvert_exporter": "python",
   "pygments_lexer": "ipython3",
   "version": "3.11.4"
  }
 },
 "nbformat": 4,
 "nbformat_minor": 2
}
